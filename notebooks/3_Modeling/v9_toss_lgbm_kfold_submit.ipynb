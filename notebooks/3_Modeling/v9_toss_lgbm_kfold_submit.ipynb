{
 "cells": [
  {
   "cell_type": "code",
   "execution_count": 1,
   "id": "01133c93-9495-447c-b011-087ae094a3b7",
   "metadata": {},
   "outputs": [],
   "source": [
    "# ========== LGBM 3-Fold (fast & stable) ==========\n",
    "import pandas as pd, numpy as np, lightgbm as lgb\n",
    "from sklearn.model_selection import StratifiedKFold\n",
    "from sklearn.metrics import average_precision_score, log_loss"
   ]
  },
  {
   "cell_type": "code",
   "execution_count": 2,
   "id": "3c821c97-8e52-49de-91f9-f21f6d4095a7",
   "metadata": {},
   "outputs": [],
   "source": [
    "train = pd.read_parquet(\"train_input_2.parquet\")\n",
    "test  = pd.read_parquet(\"test_input_2.parquet\")"
   ]
  },
  {
   "cell_type": "code",
   "execution_count": 3,
   "id": "153b53bc-238c-4808-b2f0-f45c027844ac",
   "metadata": {},
   "outputs": [
    {
     "name": "stdout",
     "output_type": "stream",
     "text": [
      "[check] dropping columns from train: ['row_id', 'clicked']\n",
      "[check] dropping columns from test: ['id']\n",
      "float64    26\n",
      "Name: count, dtype: int64\n",
      "(1527298, 26) (10704168,)\n"
     ]
    }
   ],
   "source": [
    "# ============================================\n",
    "# 🔧 ID & Target 처리 (최종 안전 버전)\n",
    "# ============================================\n",
    "\n",
    "# 1. ID 후보 목록 생성\n",
    "id_cols = [c for c in [\"row_id\", \"id\"] if c in train.columns or c in test.columns]\n",
    "\n",
    "# 2. target 설정\n",
    "target_col = \"clicked\"\n",
    "y = train[target_col].astype(int)\n",
    "\n",
    "# 3. 실제 train에서 drop할 컬럼 확인\n",
    "drop_cols = [c for c in id_cols + [target_col] if c in train.columns]\n",
    "print(\"[check] dropping columns from train:\", drop_cols)\n",
    "\n",
    "X = train.drop(columns=drop_cols)\n",
    "\n",
    "# 4. test에서 drop할 컬럼 확인\n",
    "drop_test = [c for c in id_cols if c in test.columns]\n",
    "print(\"[check] dropping columns from test:\", drop_test)\n",
    "\n",
    "X_test = test.drop(columns=drop_test)\n",
    "\n",
    "print(X.dtypes.value_counts())\n",
    "print(X_test.shape, y.shape)\n",
    "\n"
   ]
  },
  {
   "cell_type": "code",
   "execution_count": 4,
   "id": "8743f222-9fbe-494e-8349-226fdb0d3c0b",
   "metadata": {},
   "outputs": [],
   "source": [
    "bad_cols = X_test.select_dtypes(exclude=[\"int\", \"float\", \"bool\"]).columns\n",
    "if len(bad_cols):\n",
    "    print(\"[WARN] Non-numeric columns detected:\", bad_cols.tolist())"
   ]
  },
  {
   "cell_type": "code",
   "execution_count": 5,
   "id": "e35fc167-1d9a-4104-9e05-9ca15e59c2c6",
   "metadata": {},
   "outputs": [],
   "source": [
    "pos_weight = (len(y) - y.sum()) / y.sum()\n",
    "pos_weight = max(25, min(pos_weight, 35))  # 25~35로 제한\n",
    "\n",
    "params = {\n",
    "    \"objective\": \"binary\",\n",
    "    \"metric\": \"average_precision\",   #  AP 단일로 고정\n",
    "    \"boosting_type\": \"gbdt\",\n",
    "    \"learning_rate\": 0.07,\n",
    "    \"num_leaves\": 128,\n",
    "    \"min_data_in_leaf\": 80,\n",
    "    \"feature_fraction\": 0.85,\n",
    "    \"bagging_fraction\": 0.85,\n",
    "    \"bagging_freq\": 5,\n",
    "    \"scale_pos_weight\": pos_weight,\n",
    "    \"n_jobs\": 4,\n",
    "    \"seed\": 42,\n",
    "    \"verbose\": -1\n",
    "}"
   ]
  },
  {
   "cell_type": "code",
   "execution_count": 6,
   "id": "15f08b41-2b74-4409-a92c-322c152e3d05",
   "metadata": {},
   "outputs": [
    {
     "name": "stdout",
     "output_type": "stream",
     "text": [
      "\n",
      "🟦 LGBM Fold 1/3\n",
      "Training until validation scores don't improve for 600 rounds\n",
      "[200]\ttrain's average_precision: 0.0759129\tvalid's average_precision: 0.0666753\n",
      "[400]\ttrain's average_precision: 0.0814807\tvalid's average_precision: 0.0664485\n",
      "[600]\ttrain's average_precision: 0.0876602\tvalid's average_precision: 0.0664003\n",
      "[800]\ttrain's average_precision: 0.0940579\tvalid's average_precision: 0.0662488\n",
      "Early stopping, best iteration is:\n",
      "[204]\ttrain's average_precision: 0.0760739\tvalid's average_precision: 0.0666992\n",
      "Evaluated only: average_precision\n",
      "[Fold 1] AP=0.066699 | WLL=0.590783 | Score=-0.524084\n",
      "\n",
      "🟦 LGBM Fold 2/3\n",
      "Training until validation scores don't improve for 600 rounds\n",
      "[200]\ttrain's average_precision: 0.0744916\tvalid's average_precision: 0.068235\n",
      "[400]\ttrain's average_precision: 0.0801818\tvalid's average_precision: 0.0683029\n",
      "[600]\ttrain's average_precision: 0.0860635\tvalid's average_precision: 0.0681972\n",
      "[800]\ttrain's average_precision: 0.0933256\tvalid's average_precision: 0.0679812\n",
      "Early stopping, best iteration is:\n",
      "[326]\ttrain's average_precision: 0.0782117\tvalid's average_precision: 0.0683271\n",
      "Evaluated only: average_precision\n",
      "[Fold 2] AP=0.068327 | WLL=0.582648 | Score=-0.514321\n",
      "\n",
      "🟦 LGBM Fold 3/3\n",
      "Training until validation scores don't improve for 600 rounds\n",
      "[200]\ttrain's average_precision: 0.0745723\tvalid's average_precision: 0.0690912\n",
      "[400]\ttrain's average_precision: 0.0804196\tvalid's average_precision: 0.0691347\n",
      "[600]\ttrain's average_precision: 0.085859\tvalid's average_precision: 0.0691009\n",
      "[800]\ttrain's average_precision: 0.0921384\tvalid's average_precision: 0.0689578\n",
      "Early stopping, best iteration is:\n",
      "[317]\ttrain's average_precision: 0.0781151\tvalid's average_precision: 0.0691974\n",
      "Evaluated only: average_precision\n",
      "[Fold 3] AP=0.069197 | WLL=0.583043 | Score=-0.513845\n"
     ]
    }
   ],
   "source": [
    "NFOLDS=3\n",
    "skf = StratifiedKFold(n_splits=NFOLDS, shuffle=True, random_state=7)\n",
    "oof = np.zeros(len(X)); test_pred = np.zeros(len(X_test)); used=0\n",
    "\n",
    "for f, (tr, va) in enumerate(skf.split(X, y), 1):\n",
    "    print(f\"\\n🟦 LGBM Fold {f}/{NFOLDS}\")\n",
    "    dtr = lgb.Dataset(X.iloc[tr], y.iloc[tr])\n",
    "    dva = lgb.Dataset(X.iloc[va], y.iloc[va], reference=dtr)\n",
    "\n",
    "    spw = (len(tr)-y.iloc[tr].sum())/max(1,y.iloc[tr].sum())\n",
    "    params[\"scale_pos_weight\"] = float(spw)\n",
    "\n",
    "    model = lgb.train(\n",
    "    params,\n",
    "    dtr,\n",
    "    num_boost_round=2000,\n",
    "    valid_sets=[dtr, dva],\n",
    "    valid_names=[\"train\", \"valid\"],\n",
    "    callbacks=[\n",
    "        lgb.early_stopping(600, first_metric_only=True),  # 🔥 AP만 early_stop 기준\n",
    "        lgb.log_evaluation(200)\n",
    "    ]\n",
    ")\n",
    "\n",
    "    vp = model.predict(X.iloc[va], num_iteration=model.best_iteration)\n",
    "    tp = model.predict(X_test, num_iteration=model.best_iteration)\n",
    "    oof[va]=vp; test_pred += tp; used+=1\n",
    "\n",
    "    ap = average_precision_score(y.iloc[va], vp)\n",
    "    wll= log_loss(y.iloc[va], np.clip(vp,1e-6,1-1e-6))\n",
    "    print(f\"[Fold {f}] AP={ap:.6f} | WLL={wll:.6f} | Score={ap-wll:.6f}\")\n",
    "\n",
    "test_pred /= used\n",
    "test_pred = np.clip(test_pred, 1e-4, 1-1e-4)"
   ]
  },
  {
   "cell_type": "code",
   "execution_count": 7,
   "id": "a565a5e2-c4ad-49e0-8b72-2b1352fb392d",
   "metadata": {},
   "outputs": [
    {
     "name": "stdout",
     "output_type": "stream",
     "text": [
      "[Saved] toss_lgbm_kfold_v9_submit.csv & train_input_2_oof_lgbm.parquet\n"
     ]
    }
   ],
   "source": [
    "# 저장\n",
    "train_out = train.copy()\n",
    "train_out[\"oof_lgbm\"] = oof\n",
    "train_out[[\"oof_lgbm\"]].to_parquet(\"train_input_2_oof_lgbm.parquet\", index=False)\n",
    "\n",
    "key = \"id\" if \"id\" in test.columns else \"row_id\"\n",
    "sub_lgb = pd.DataFrame({\"ID\": test[key], \"clicked\": test_pred})\n",
    "sub_lgb.to_csv(\"toss_lgbm_kfold_v9_submit.csv\", index=False)\n",
    "print(\"[Saved] toss_lgbm_kfold_v9_submit.csv & train_input_2_oof_lgbm.parquet\")\n",
    "\n",
    "np.save(\"lgbm_test_pred.npy\", test_pred)"
   ]
  },
  {
   "cell_type": "code",
   "execution_count": null,
   "id": "c0374ecc-2f9e-4713-89e8-a98ffca08747",
   "metadata": {},
   "outputs": [],
   "source": []
  }
 ],
 "metadata": {
  "kernelspec": {
   "display_name": "ml_project",
   "language": "python",
   "name": "ml_project"
  },
  "language_info": {
   "codemirror_mode": {
    "name": "ipython",
    "version": 3
   },
   "file_extension": ".py",
   "mimetype": "text/x-python",
   "name": "python",
   "nbconvert_exporter": "python",
   "pygments_lexer": "ipython3",
   "version": "3.11.9"
  }
 },
 "nbformat": 4,
 "nbformat_minor": 5
}
