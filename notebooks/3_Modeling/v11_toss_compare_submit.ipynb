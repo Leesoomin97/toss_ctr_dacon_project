{
 "cells": [
  {
   "cell_type": "code",
   "execution_count": 1,
   "id": "6756aed9-6f4a-4eba-b9bc-8e6a0d5e6f2c",
   "metadata": {},
   "outputs": [],
   "source": [
    "# ===============================================\n",
    "# 2모델(KFold XGB+LGBM) vs 3모델(XGB+LGBM+DCN) 앙상블 비교\n",
    "# ===============================================\n",
    "import numpy as np, pandas as pd\n",
    "from sklearn.metrics import average_precision_score, log_loss\n",
    "\n"
   ]
  },
  {
   "cell_type": "code",
   "execution_count": 2,
   "id": "786807a0-46a7-4bee-9540-92fc95044052",
   "metadata": {},
   "outputs": [],
   "source": [
    "# 1️⃣ 공통 검증 인덱스 / 라벨\n",
    "val_idx = np.load(\"dcn_val_index.npy\")\n",
    "y_val   = np.load(\"dcn_val_true.npy\").astype(int)\n",
    "\n",
    "# 2️⃣ XGB / LGBM OOF 로드\n",
    "oof_xgb = pd.read_parquet(\"train_input_2_oof_xgb.parquet\")[\"oof_xgb\"].values.astype(float)\n",
    "oof_lgb = pd.read_parquet(\"train_input_2_oof_lgbm.parquet\")[\"oof_lgbm\"].values.astype(float)\n",
    "p_xgb_val = oof_xgb[val_idx]\n",
    "p_lgb_val = oof_lgb[val_idx]\n",
    "\n",
    "# 3️⃣ DCN 검증 예측 로드\n",
    "p_dcn_val = np.load(\"dcn_val_pred.npy\").astype(float)\n",
    "assert len(p_dcn_val) == len(y_val) == len(p_xgb_val)\n"
   ]
  },
  {
   "cell_type": "code",
   "execution_count": 3,
   "id": "0482bc16-1b86-4635-a095-d2bf9da7e2b6",
   "metadata": {},
   "outputs": [
    {
     "name": "stdout",
     "output_type": "stream",
     "text": [
      "[2-Model] best α(XGB)=0.550 | val_AP=0.069153 | val_WLL=0.590187\n"
     ]
    }
   ],
   "source": [
    "# ==========================================================\n",
    "# 📌 후보 A: XGB + LGBM (KFold)\n",
    "# ==========================================================\n",
    "alphas = np.linspace(0.0, 1.0, 41)\n",
    "best_a = {\"ap\": -1, \"a\": None, \"wll\": None}\n",
    "\n",
    "for a in alphas:\n",
    "    blend = a*p_xgb_val + (1-a)*p_lgb_val\n",
    "    blend = np.clip(blend, 1e-6, 1-1e-6)\n",
    "    ap  = average_precision_score(y_val, blend)\n",
    "    wll = log_loss(y_val, blend)\n",
    "    if ap > best_a[\"ap\"]:\n",
    "        best_a.update({\"ap\": ap, \"a\": a, \"wll\": wll})\n",
    "\n",
    "print(f\"[2-Model] best α(XGB)={best_a['a']:.3f} | val_AP={best_a['ap']:.6f} | val_WLL={best_a['wll']:.6f}\")\n"
   ]
  },
  {
   "cell_type": "code",
   "execution_count": 4,
   "id": "67895635-4242-4dd0-ac07-8baa8637246a",
   "metadata": {},
   "outputs": [
    {
     "name": "stdout",
     "output_type": "stream",
     "text": [
      "[3-Model] best α(XGB)=0.550 | β(LGBM)=0.400 | γ(DCN)=0.050 | val_AP=0.069158 | val_WLL=0.592502\n"
     ]
    }
   ],
   "source": [
    "# ==========================================================\n",
    "# 📌 후보 B: XGB + LGBM + DCN\n",
    "# ==========================================================\n",
    "grid = np.linspace(0.0, 1.0, 41)\n",
    "best_b = {\"ap\": -1, \"a\": None, \"b\": None, \"wll\": None}\n",
    "\n",
    "for a in grid:\n",
    "    for b in grid:\n",
    "        if a + b > 1.0:  # γ = 1 - a - b\n",
    "            continue\n",
    "        blend = a*p_xgb_val + b*p_lgb_val + (1 - a - b)*p_dcn_val\n",
    "        blend = np.clip(blend, 1e-6, 1-1e-6)\n",
    "        ap  = average_precision_score(y_val, blend)\n",
    "        wll = log_loss(y_val, blend)\n",
    "        if ap > best_b[\"ap\"]:\n",
    "            best_b.update({\"ap\": ap, \"a\": a, \"b\": b, \"wll\": wll})\n",
    "\n",
    "print(f\"[3-Model] best α(XGB)={best_b['a']:.3f} | β(LGBM)={best_b['b']:.3f} | γ(DCN)={1-best_b['a']-best_b['b']:.3f} \"\n",
    "      f\"| val_AP={best_b['ap']:.6f} | val_WLL={best_b['wll']:.6f}\")"
   ]
  },
  {
   "cell_type": "code",
   "execution_count": 5,
   "id": "99f28c3b-cf89-48ae-84c1-68a58d916655",
   "metadata": {},
   "outputs": [
    {
     "name": "stdout",
     "output_type": "stream",
     "text": [
      "\n",
      "[SELECT] 3-Model (XGB+LGBM+DCN) 선택!\n"
     ]
    }
   ],
   "source": [
    "# ==========================================================\n",
    "# ⚖️ 비교 및 선택\n",
    "# ==========================================================\n",
    "use_three = best_b[\"ap\"] > best_a[\"ap\"]\n",
    "print(f\"\\n[SELECT] {'3-Model (XGB+LGBM+DCN)' if use_three else '2-Model (XGB+LGBM)'} 선택!\")"
   ]
  },
  {
   "cell_type": "code",
   "execution_count": 7,
   "id": "504f3cb7-b179-4f55-9e70-b90dcd131729",
   "metadata": {},
   "outputs": [
    {
     "name": "stdout",
     "output_type": "stream",
     "text": [
      "[Saved] toss_ensemble_3model_v11_submit.csv\n"
     ]
    }
   ],
   "source": [
    "\n",
    "\n",
    "# ==========================================================\n",
    "# 🧾 테스트 세트 혼합 및 제출 파일 생성\n",
    "# ==========================================================\n",
    "sub_xgb = pd.read_csv(\"toss_xgb_kfold_v7_submit.csv\")\n",
    "sub_lgb = pd.read_csv(\"toss_lgbm_kfold_v9_submit.csv\")\n",
    "sub_dcn = pd.read_csv(\"toss_dcn_v8_submit.csv\")\n",
    "\n",
    "def pick_id(df):\n",
    "    for c in [\"ID\",\"id\",\"row_id\"]:\n",
    "        if c in df.columns: return c\n",
    "    raise KeyError(\"ID 컬럼 없음\")\n",
    "\n",
    "kx, kl, kd = map(pick_id, [sub_xgb, sub_lgb, sub_dcn])\n",
    "sub_xgb = sub_xgb.sort_values(kx).reset_index(drop=True)\n",
    "sub_lgb = sub_lgb.sort_values(kl).reset_index(drop=True)\n",
    "sub_dcn = sub_dcn.sort_values(kd).reset_index(drop=True)\n",
    "assert (sub_xgb[kx].values == sub_lgb[kl].values).all()\n",
    "assert (sub_xgb[kx].values == sub_dcn[kd].values).all()\n",
    "\n",
    "if use_three:\n",
    "    a, b = best_b[\"a\"], best_b[\"b\"]\n",
    "    g = 1 - a - b\n",
    "    clicked = a*sub_xgb[\"clicked\"] + b*sub_lgb[\"clicked\"] + g*sub_dcn[\"clicked\"]\n",
    "    out_name = \"toss_ensemble_3model_v11_submit.csv\"\n",
    "else:\n",
    "    a = best_a[\"a\"]\n",
    "    clicked = a*sub_xgb[\"clicked\"] + (1-a)*sub_lgb[\"clicked\"]\n",
    "    out_name = \"toss_ensemble_2model_v11_submit.csv\"\n",
    "\n",
    "clicked = np.clip(clicked, 1e-4, 1-1e-4)\n",
    "pd.DataFrame({\"ID\": sub_xgb[kx], \"clicked\": clicked}).to_csv(out_name, index=False)\n",
    "print(f\"[Saved] {out_name}\")\n"
   ]
  },
  {
   "cell_type": "code",
   "execution_count": null,
   "id": "365a0219-e80b-4d42-a431-fd4666826dad",
   "metadata": {},
   "outputs": [],
   "source": []
  }
 ],
 "metadata": {
  "kernelspec": {
   "display_name": "ml_project",
   "language": "python",
   "name": "ml_project"
  },
  "language_info": {
   "codemirror_mode": {
    "name": "ipython",
    "version": 3
   },
   "file_extension": ".py",
   "mimetype": "text/x-python",
   "name": "python",
   "nbconvert_exporter": "python",
   "pygments_lexer": "ipython3",
   "version": "3.11.9"
  }
 },
 "nbformat": 4,
 "nbformat_minor": 5
}
