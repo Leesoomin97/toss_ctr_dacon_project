{
 "cells": [
  {
   "cell_type": "code",
   "execution_count": 1,
   "id": "aa9f7bb6-4f46-4d07-9300-f7440c6016ed",
   "metadata": {},
   "outputs": [
    {
     "name": "stdout",
     "output_type": "stream",
     "text": [
      "[info] toss_ensemble_v4_submit.csv saved.\n",
      "Range of clicked: 0.0159 ~ 0.9901\n"
     ]
    }
   ],
   "source": [
    "import pandas as pd\n",
    "\n",
    "# Load predictions\n",
    "xgb = pd.read_csv(\"toss_xgb_v3_submit.csv\")\n",
    "lgbm = pd.read_csv(\"toss_lgbm_v2_submit.csv\")\n",
    "\n",
    "# ID alignment check\n",
    "assert all(xgb['ID'] == lgbm['ID']), \"ID mismatch!\"\n",
    "\n",
    "# Soft ensemble (가중 평균)\n",
    "blend = xgb.copy()\n",
    "blend['clicked'] = 0.55 * xgb['clicked'] + 0.45 * lgbm['clicked']\n",
    "\n",
    "# Save\n",
    "blend.to_csv(\"toss_ensemble_v4.5_submit.csv\", index=False)\n",
    "\n",
    "print(\"[info] toss_ensemble_v4.5_submit.csv saved.\")\n",
    "print(f\"Range of clicked: {blend['clicked'].min():.4f} ~ {blend['clicked'].max():.4f}\")\n"
   ]
  },
  {
   "cell_type": "code",
   "execution_count": null,
   "id": "9341f006-d142-4a59-aefe-b0a7301c50f5",
   "metadata": {},
   "outputs": [],
   "source": []
  }
 ],
 "metadata": {
  "kernelspec": {
   "display_name": "ml_project",
   "language": "python",
   "name": "ml_project"
  },
  "language_info": {
   "codemirror_mode": {
    "name": "ipython",
    "version": 3
   },
   "file_extension": ".py",
   "mimetype": "text/x-python",
   "name": "python",
   "nbconvert_exporter": "python",
   "pygments_lexer": "ipython3",
   "version": "3.11.9"
  }
 },
 "nbformat": 4,
 "nbformat_minor": 5
}
