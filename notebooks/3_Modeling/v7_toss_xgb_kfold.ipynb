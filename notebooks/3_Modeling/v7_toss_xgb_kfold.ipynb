{
 "cells": [
  {
   "cell_type": "code",
   "execution_count": 1,
   "id": "41980ffa-7635-4811-ba17-3ba574f1c984",
   "metadata": {},
   "outputs": [
    {
     "name": "stdout",
     "output_type": "stream",
     "text": [
      "📦 Loading data...\n",
      "Train: (10704168, 26), Test: (1527298, 26), pos_ratio=0.0191\n"
     ]
    }
   ],
   "source": [
    "# ===============================================\n",
    "# Toss CTR - XGBoost 3-Fold (CTR-safe)\n",
    "# ===============================================\n",
    "import pandas as pd, numpy as np, xgboost as xgb\n",
    "from sklearn.model_selection import StratifiedKFold\n",
    "from sklearn.metrics import average_precision_score, log_loss\n",
    "\n",
    "print(\"📦 Loading data...\")\n",
    "train = pd.read_parquet(\"train_input_2.parquet\")\n",
    "test  = pd.read_parquet(\"test_input_2.parquet\")\n",
    "\n",
    "id_cols = [c for c in [\"row_id\",\"id\"] if c in train.columns or c in test.columns]\n",
    "target_col = \"clicked\"\n",
    "\n",
    "X = train.drop(columns=[c for c in id_cols if c in train.columns] + [target_col])\n",
    "y = train[target_col]\n",
    "X_test = test.drop(columns=[c for c in id_cols if c in test.columns])\n",
    "\n",
    "print(f\"Train: {X.shape}, Test: {X_test.shape}, pos_ratio={y.mean():.4f}\")\n",
    "\n"
   ]
  },
  {
   "cell_type": "code",
   "execution_count": 2,
   "id": "05b09024-8839-4558-b90e-1ecd1001b6c0",
   "metadata": {},
   "outputs": [],
   "source": [
    "params = {\n",
    "    \"objective\": \"binary:logistic\",\n",
    "    \"eval_metric\": [\"logloss\", \"aucpr\"],\n",
    "    \"learning_rate\": 0.1,\n",
    "    \"max_depth\": 8,\n",
    "    \"min_child_weight\": 4,\n",
    "    \"subsample\": 0.8,\n",
    "    \"colsample_bytree\": 0.8,\n",
    "    \"lambda\": 0.0,\n",
    "    \"alpha\": 0.0,\n",
    "    \"tree_method\": \"hist\",\n",
    "    \"max_bin\": 256,\n",
    "    \"nthread\": -1,\n",
    "    \"seed\": 42,\n",
    "}\n",
    "\n"
   ]
  },
  {
   "cell_type": "code",
   "execution_count": 3,
   "id": "7f28c58f-b7f5-42d2-a5a8-4c15830440f7",
   "metadata": {},
   "outputs": [
    {
     "name": "stdout",
     "output_type": "stream",
     "text": [
      "\n",
      "🟦 Fold 1/3\n",
      "[0]\ttrain-logloss:0.68045\ttrain-aucpr:0.05673\tvalid-logloss:0.68050\tvalid-aucpr:0.05532\n",
      "[200]\ttrain-logloss:0.57802\ttrain-aucpr:0.08497\tvalid-logloss:0.58117\tvalid-aucpr:0.06825\n",
      "[356]\ttrain-logloss:0.55856\ttrain-aucpr:0.09465\tvalid-logloss:0.56353\tvalid-aucpr:0.06766\n",
      "[Fold 1] AP=0.068565 | WLL=0.598794 | Score=-0.265115\n",
      "\n",
      "🟦 Fold 2/3\n",
      "[0]\ttrain-logloss:0.68062\ttrain-aucpr:0.05672\tvalid-logloss:0.68065\tvalid-aucpr:0.05445\n",
      "[200]\ttrain-logloss:0.57843\ttrain-aucpr:0.08556\tvalid-logloss:0.58126\tvalid-aucpr:0.06781\n",
      "[395]\ttrain-logloss:0.55430\ttrain-aucpr:0.09820\tvalid-logloss:0.55930\tvalid-aucpr:0.06692\n",
      "[Fold 2] AP=0.068119 | WLL=0.593799 | Score=-0.262840\n",
      "\n",
      "🟦 Fold 3/3\n",
      "[0]\ttrain-logloss:0.68062\ttrain-aucpr:0.05613\tvalid-logloss:0.68062\tvalid-aucpr:0.05464\n",
      "[200]\ttrain-logloss:0.57730\ttrain-aucpr:0.08518\tvalid-logloss:0.57965\tvalid-aucpr:0.06876\n",
      "[378]\ttrain-logloss:0.55496\ttrain-aucpr:0.09633\tvalid-logloss:0.55937\tvalid-aucpr:0.06785\n",
      "[Fold 3] AP=0.069046 | WLL=0.595058 | Score=-0.263006\n"
     ]
    }
   ],
   "source": [
    "NFOLDS = 3\n",
    "skf = StratifiedKFold(n_splits=NFOLDS, shuffle=True, random_state=42)\n",
    "\n",
    "oof_preds = np.zeros(len(X))\n",
    "test_preds = np.zeros(len(X_test))\n",
    "used = 0\n",
    "\n",
    "for fold, (train_idx, val_idx) in enumerate(skf.split(X, y), 1):\n",
    "    print(f\"\\n🟦 Fold {fold}/{NFOLDS}\")\n",
    "    X_train, X_val = X.iloc[train_idx], X.iloc[val_idx]\n",
    "    y_train, y_val = y.iloc[train_idx], y.iloc[val_idx]\n",
    "\n",
    "    dtrain = xgb.DMatrix(X_train, label=y_train)\n",
    "    dval   = xgb.DMatrix(X_val, label=y_val)\n",
    "    dtest  = xgb.DMatrix(X_test)\n",
    "\n",
    "    pos_weight = (len(y_train) - y_train.sum()) / y_train.sum()\n",
    "    params[\"scale_pos_weight\"] = float(pos_weight)\n",
    "\n",
    "    model = xgb.train(\n",
    "        params,\n",
    "        dtrain,\n",
    "        num_boost_round=2000,\n",
    "        evals=[(dtrain, \"train\"), (dval, \"valid\")],\n",
    "        early_stopping_rounds=300,\n",
    "        verbose_eval=200\n",
    "    )\n",
    "\n",
    "    val_pred = model.predict(dval, iteration_range=(0, model.best_iteration))\n",
    "    test_pred = model.predict(dtest, iteration_range=(0, model.best_iteration))\n",
    "\n",
    "    oof_preds[val_idx] = val_pred\n",
    "    test_preds += test_pred\n",
    "    used += 1\n",
    "\n",
    "    ap = average_precision_score(y_val, val_pred)\n",
    "    wll = log_loss(y_val, val_pred)\n",
    "    score = 0.5 * ap - 0.5 * wll\n",
    "    print(f\"[Fold {fold}] AP={ap:.6f} | WLL={wll:.6f} | Score={score:.6f}\")\n",
    "\n"
   ]
  },
  {
   "cell_type": "code",
   "execution_count": 4,
   "id": "b741a7f0-f61c-48d5-8b11-e82241e7f1de",
   "metadata": {},
   "outputs": [
    {
     "name": "stdout",
     "output_type": "stream",
     "text": [
      "\n",
      "✅ K-Fold done | AP=0.068509 | WLL=0.595884 | Score=-0.263688\n"
     ]
    }
   ],
   "source": [
    "test_preds /= used\n",
    "test_preds = np.clip(test_preds, 1e-4, 1-1e-4)\n",
    "\n",
    "ap_total = average_precision_score(y, oof_preds)\n",
    "wll_total = log_loss(y, oof_preds)\n",
    "score_total = 0.5 * ap_total - 0.5 * wll_total\n",
    "print(f\"\\n✅ K-Fold done | AP={ap_total:.6f} | WLL={wll_total:.6f} | Score={score_total:.6f}\")\n",
    "\n"
   ]
  },
  {
   "cell_type": "code",
   "execution_count": 5,
   "id": "527c0c03-40e8-4562-825e-2fc126d9f6c6",
   "metadata": {},
   "outputs": [
    {
     "name": "stdout",
     "output_type": "stream",
     "text": [
      "[Saved] toss_xgb_kfold_v7_submit.csv\n"
     ]
    }
   ],
   "source": [
    "train[\"oof_xgb\"] = oof_preds\n",
    "test[\"clicked\"] = test_preds\n",
    "train.to_parquet(\"train_input_2_oof_xgb.parquet\", index=False)\n",
    "\n",
    "id_col = \"id\" if \"id\" in test.columns else \"row_id\"\n",
    "test[[id_col, \"clicked\"]].to_csv(\"toss_xgb_kfold_v7_submit.csv\", index=False)\n",
    "print(\"[Saved] toss_xgb_kfold_v7_submit.csv\")\n"
   ]
  },
  {
   "cell_type": "code",
   "execution_count": null,
   "id": "d0d0d55f-75eb-4488-9c48-542784e3a25d",
   "metadata": {},
   "outputs": [],
   "source": []
  }
 ],
 "metadata": {
  "kernelspec": {
   "display_name": "ml_project",
   "language": "python",
   "name": "ml_project"
  },
  "language_info": {
   "codemirror_mode": {
    "name": "ipython",
    "version": 3
   },
   "file_extension": ".py",
   "mimetype": "text/x-python",
   "name": "python",
   "nbconvert_exporter": "python",
   "pygments_lexer": "ipython3",
   "version": "3.11.9"
  }
 },
 "nbformat": 4,
 "nbformat_minor": 5
}
