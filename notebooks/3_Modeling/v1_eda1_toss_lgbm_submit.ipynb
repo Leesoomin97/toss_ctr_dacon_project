{
 "cells": [
  {
   "cell_type": "code",
   "execution_count": 11,
   "id": "affb8e2a-713c-420e-9320-c4c290a8faa1",
   "metadata": {},
   "outputs": [],
   "source": [
    "import pandas as pd\n",
    "import numpy as np\n",
    "from lightgbm import LGBMClassifier\n",
    "from sklearn.model_selection import StratifiedKFold\n",
    "from sklearn.metrics import average_precision_score, log_loss\n",
    "from lightgbm import early_stopping, log_evaluation\n"
   ]
  },
  {
   "cell_type": "code",
   "execution_count": 4,
   "id": "517ec684-cc2f-40cf-b5d5-5a41b542c8bc",
   "metadata": {},
   "outputs": [],
   "source": [
    "\n",
    "# 데이터 로드\n",
    "train = pd.read_csv('train_input.csv')\n",
    "test = pd.read_csv('test_input.csv')"
   ]
  },
  {
   "cell_type": "code",
   "execution_count": 5,
   "id": "bbad6595-28ec-4f99-ad3f-d49f51e61349",
   "metadata": {},
   "outputs": [],
   "source": [
    "# Feature와 Target 분리\n",
    "X = train.drop(columns=['clicked'])\n",
    "y = train['clicked']\n"
   ]
  },
  {
   "cell_type": "code",
   "execution_count": 6,
   "id": "0e94737d-54bb-4fbe-90e0-b042437808b3",
   "metadata": {},
   "outputs": [],
   "source": [
    "# Stratified K-fold 설정 \n",
    "skf = StratifiedKFold(n_splits=5, shuffle=True, random_state=42)"
   ]
  },
  {
   "cell_type": "code",
   "execution_count": 8,
   "id": "298373eb-16b5-46fe-91ba-fb8558534d3a",
   "metadata": {},
   "outputs": [],
   "source": [
    "# LGBM 파라미터 설정\n",
    "\n",
    "params = {\n",
    "    'objective': 'binary',\n",
    "    'metric': ['binary_logloss', 'average_precision'],\n",
    "    'learning_rate': 0.05,\n",
    "    'num_leaves': 64,\n",
    "    'max_depth': -1,\n",
    "    'feature_fraction': 0.8,\n",
    "    'bagging_fraction': 0.8,\n",
    "    'bagging_freq': 5,\n",
    "    'seed': 42,\n",
    "    'n_jobs': -1,\n",
    "    'verbose': -1\n",
    "}\n"
   ]
  },
  {
   "cell_type": "code",
   "execution_count": 12,
   "id": "6e1ae0fc-ae3a-496e-8531-893f36db1026",
   "metadata": {},
   "outputs": [
    {
     "name": "stdout",
     "output_type": "stream",
     "text": [
      "===== Fold 1 =====\n",
      "Training until validation scores don't improve for 100 rounds\n",
      "[100]\tvalid_0's binary_logloss: 0.0895931\tvalid_0's average_precision: 0.051165\n",
      "[200]\tvalid_0's binary_logloss: 0.0893697\tvalid_0's average_precision: 0.0526104\n",
      "[300]\tvalid_0's binary_logloss: 0.0893224\tvalid_0's average_precision: 0.0529837\n",
      "[400]\tvalid_0's binary_logloss: 0.0892984\tvalid_0's average_precision: 0.0531325\n",
      "[500]\tvalid_0's binary_logloss: 0.0892849\tvalid_0's average_precision: 0.0532237\n",
      "[600]\tvalid_0's binary_logloss: 0.0892777\tvalid_0's average_precision: 0.0532568\n",
      "Early stopping, best iteration is:\n",
      "[515]\tvalid_0's binary_logloss: 0.0892792\tvalid_0's average_precision: 0.0532771\n",
      "===== Fold 2 =====\n",
      "Training until validation scores don't improve for 100 rounds\n",
      "[100]\tvalid_0's binary_logloss: 0.0895801\tvalid_0's average_precision: 0.0517593\n",
      "[200]\tvalid_0's binary_logloss: 0.0893843\tvalid_0's average_precision: 0.0529361\n",
      "[300]\tvalid_0's binary_logloss: 0.0893309\tvalid_0's average_precision: 0.0532629\n",
      "[400]\tvalid_0's binary_logloss: 0.0893048\tvalid_0's average_precision: 0.0534661\n",
      "[500]\tvalid_0's binary_logloss: 0.0892894\tvalid_0's average_precision: 0.0535254\n",
      "[600]\tvalid_0's binary_logloss: 0.0892779\tvalid_0's average_precision: 0.0535364\n",
      "[700]\tvalid_0's binary_logloss: 0.0892719\tvalid_0's average_precision: 0.0535864\n",
      "[800]\tvalid_0's binary_logloss: 0.0892708\tvalid_0's average_precision: 0.0536074\n",
      "Early stopping, best iteration is:\n",
      "[755]\tvalid_0's binary_logloss: 0.0892674\tvalid_0's average_precision: 0.0536059\n",
      "===== Fold 3 =====\n",
      "Training until validation scores don't improve for 100 rounds\n",
      "[100]\tvalid_0's binary_logloss: 0.0895418\tvalid_0's average_precision: 0.0515314\n",
      "[200]\tvalid_0's binary_logloss: 0.0893471\tvalid_0's average_precision: 0.0528806\n",
      "[300]\tvalid_0's binary_logloss: 0.089295\tvalid_0's average_precision: 0.053264\n",
      "[400]\tvalid_0's binary_logloss: 0.0892625\tvalid_0's average_precision: 0.0534776\n",
      "[500]\tvalid_0's binary_logloss: 0.0892544\tvalid_0's average_precision: 0.0535312\n",
      "[600]\tvalid_0's binary_logloss: 0.0892363\tvalid_0's average_precision: 0.0537073\n",
      "[700]\tvalid_0's binary_logloss: 0.0892285\tvalid_0's average_precision: 0.0537771\n",
      "[800]\tvalid_0's binary_logloss: 0.0892259\tvalid_0's average_precision: 0.0538093\n",
      "[900]\tvalid_0's binary_logloss: 0.0892345\tvalid_0's average_precision: 0.0537631\n",
      "Early stopping, best iteration is:\n",
      "[804]\tvalid_0's binary_logloss: 0.0892245\tvalid_0's average_precision: 0.0538199\n",
      "===== Fold 4 =====\n",
      "Training until validation scores don't improve for 100 rounds\n",
      "[100]\tvalid_0's binary_logloss: 0.0896217\tvalid_0's average_precision: 0.0514635\n",
      "[200]\tvalid_0's binary_logloss: 0.089426\tvalid_0's average_precision: 0.0526925\n",
      "[300]\tvalid_0's binary_logloss: 0.089383\tvalid_0's average_precision: 0.0529633\n",
      "[400]\tvalid_0's binary_logloss: 0.0893639\tvalid_0's average_precision: 0.0530348\n",
      "[500]\tvalid_0's binary_logloss: 0.0893475\tvalid_0's average_precision: 0.0531344\n",
      "[600]\tvalid_0's binary_logloss: 0.0893385\tvalid_0's average_precision: 0.0531822\n",
      "[700]\tvalid_0's binary_logloss: 0.0893332\tvalid_0's average_precision: 0.0532323\n",
      "[800]\tvalid_0's binary_logloss: 0.0893226\tvalid_0's average_precision: 0.0533146\n",
      "[900]\tvalid_0's binary_logloss: 0.0893162\tvalid_0's average_precision: 0.0533478\n",
      "Early stopping, best iteration is:\n",
      "[836]\tvalid_0's binary_logloss: 0.0893179\tvalid_0's average_precision: 0.0533504\n",
      "===== Fold 5 =====\n",
      "Training until validation scores don't improve for 100 rounds\n",
      "[100]\tvalid_0's binary_logloss: 0.0896303\tvalid_0's average_precision: 0.0510349\n",
      "[200]\tvalid_0's binary_logloss: 0.0894236\tvalid_0's average_precision: 0.0523159\n",
      "[300]\tvalid_0's binary_logloss: 0.0893622\tvalid_0's average_precision: 0.052699\n",
      "[400]\tvalid_0's binary_logloss: 0.089339\tvalid_0's average_precision: 0.0528554\n",
      "[500]\tvalid_0's binary_logloss: 0.0893188\tvalid_0's average_precision: 0.0529958\n",
      "[600]\tvalid_0's binary_logloss: 0.0893083\tvalid_0's average_precision: 0.0530303\n",
      "[700]\tvalid_0's binary_logloss: 0.0892919\tvalid_0's average_precision: 0.053145\n",
      "Early stopping, best iteration is:\n",
      "[687]\tvalid_0's binary_logloss: 0.0892909\tvalid_0's average_precision: 0.0531406\n"
     ]
    }
   ],
   "source": [
    "# 교차 검증 학습\n",
    "oof_pred = np.zeros(len(train))\n",
    "test_pred = np.zeros(len(test))\n",
    "\n",
    "for fold, (train_idx, valid_idx) in enumerate(skf.split(X, y)):\n",
    "    print(f\"===== Fold {fold+1} =====\")\n",
    "    X_train, X_valid = X.iloc[train_idx], X.iloc[valid_idx]\n",
    "    y_train, y_valid = y.iloc[train_idx], y.iloc[valid_idx]\n",
    "\n",
    "    model = LGBMClassifier(**params, n_estimators=1000)\n",
    "    model.fit(\n",
    "        X_train, y_train,\n",
    "        eval_set=[(X_valid, y_valid)],\n",
    "        eval_metric=['binary_logloss', 'average_precision'],\n",
    "        callbacks=[early_stopping(100), log_evaluation(100)]\n",
    "    )\n",
    "\n",
    "    oof_pred[valid_idx] = model.predict_proba(X_valid)[:, 1]\n",
    "    test_pred += model.predict_proba(test)[:, 1] / skf.n_splits\n"
   ]
  },
  {
   "cell_type": "code",
   "execution_count": 13,
   "id": "c6a2fff5-99ed-491c-a626-101102734f21",
   "metadata": {},
   "outputs": [
    {
     "name": "stdout",
     "output_type": "stream",
     "text": [
      "AP: 0.05339, Weighted LogLoss: 1.85859, Final Score: -0.40260\n"
     ]
    }
   ],
   "source": [
    "# 토스대회 기준 산식 반영\n",
    "def weighted_logloss(y_true, y_pred):\n",
    "    w0 = 0.5 / (y_true == 0).mean()\n",
    "    w1 = 0.5 / (y_true == 1).mean()\n",
    "    weights = np.where(y_true == 1, w1, w0)\n",
    "    return log_loss(y_true, y_pred, sample_weight=weights)\n",
    "\n",
    "ap = average_precision_score(y, oof_pred)\n",
    "wll = weighted_logloss(y, oof_pred)\n",
    "final_score = 0.5 * ap + 0.5 * (1 - wll)\n",
    "\n",
    "print(f\"AP: {ap:.5f}, Weighted LogLoss: {wll:.5f}, Final Score: {final_score:.5f}\")\n"
   ]
  },
  {
   "cell_type": "code",
   "execution_count": 23,
   "id": "460e6f20-8f00-468d-8ad7-4b42743252f4",
   "metadata": {},
   "outputs": [
    {
     "name": "stdout",
     "output_type": "stream",
     "text": [
      "✅ 제출 파일 생성 완료 → toss_lgbm_v1_submit.csv (Dacon 형식 완벽 일치)\n"
     ]
    }
   ],
   "source": [
    "# 원본 test.parquet에서 ID 불러오기\n",
    "test_raw = pd.read_parquet('test.parquet')\n",
    "ID = test_raw['ID']  # ✅ 제출 형식 그대로 'ID' 컬럼명 유지\n",
    "\n",
    "# 이미 학습 완료된 test_pred 사용\n",
    "submission = pd.DataFrame({\n",
    "    'ID': ID,               # ✅ session_id → ID 로 변경\n",
    "    'clicked': test_pred\n",
    "})\n",
    "\n",
    "# 안전하게 저장 (float 형식 + UTF-8)\n",
    "submission.to_csv(\n",
    "    'toss_lgbm_v1_submit.csv',\n",
    "    index=False,\n",
    "    encoding='utf-8-sig',\n",
    "    float_format='%.6f'\n",
    ")\n",
    "\n",
    "print(\"✅ 제출 파일 생성 완료 → toss_lgbm_v1_submit.csv (Dacon 형식 완벽 일치)\")"
   ]
  },
  {
   "cell_type": "code",
   "execution_count": 24,
   "id": "67bf5ca3-d385-4ffc-8096-c46c755ee1e3",
   "metadata": {},
   "outputs": [
    {
     "name": "stdout",
     "output_type": "stream",
     "text": [
      "             ID   clicked\n",
      "0  TEST_0000000  0.007330\n",
      "1  TEST_0000001  0.019933\n",
      "2  TEST_0000002  0.022561\n",
      "3  TEST_0000003  0.020123\n",
      "4  TEST_0000004  0.017509\n"
     ]
    }
   ],
   "source": [
    "submission = pd.read_csv(\"toss_lgbm_v1_submit.csv\")\n",
    "print(submission.head())   # 상위 5행 미리보기"
   ]
  },
  {
   "cell_type": "code",
   "execution_count": null,
   "id": "9d5f7a51-a0a0-46ad-95f6-e9d66b66d311",
   "metadata": {},
   "outputs": [],
   "source": []
  }
 ],
 "metadata": {
  "kernelspec": {
   "display_name": "ml_project",
   "language": "python",
   "name": "ml_project"
  },
  "language_info": {
   "codemirror_mode": {
    "name": "ipython",
    "version": 3
   },
   "file_extension": ".py",
   "mimetype": "text/x-python",
   "name": "python",
   "nbconvert_exporter": "python",
   "pygments_lexer": "ipython3",
   "version": "3.11.9"
  }
 },
 "nbformat": 4,
 "nbformat_minor": 5
}
