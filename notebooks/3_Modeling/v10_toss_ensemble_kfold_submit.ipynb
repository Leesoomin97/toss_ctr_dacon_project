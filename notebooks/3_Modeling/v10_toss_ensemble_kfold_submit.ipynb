{
 "cells": [
  {
   "cell_type": "code",
   "execution_count": 1,
   "id": "4b6b043f-a3a5-4b34-b4ba-76109cfe472a",
   "metadata": {},
   "outputs": [],
   "source": [
    "# ===============================================\n",
    "# DCN + XGB + LGBM 앙상블 (검증 α, β 탐색 → 테스트 혼합)\n",
    "# ===============================================\n",
    "import numpy as np, pandas as pd\n",
    "from sklearn.metrics import average_precision_score, log_loss\n",
    "from itertools import product"
   ]
  },
  {
   "cell_type": "code",
   "execution_count": 2,
   "id": "af9c8c83-bc2a-462d-bd36-c7ad99bc5a51",
   "metadata": {},
   "outputs": [],
   "source": [
    "# 1️⃣ 검증 세트 로드 (DCN)\n",
    "val_idx = np.load(\"dcn_val_index.npy\")\n",
    "p_dcn_val = np.load(\"dcn_val_pred.npy\").astype(float)\n",
    "y_val = np.load(\"dcn_val_true.npy\").astype(int)\n",
    "assert len(p_dcn_val) == len(y_val), \"DCN val 길이 불일치\""
   ]
  },
  {
   "cell_type": "code",
   "execution_count": 3,
   "id": "b2a3d6cb-1766-4d9e-9f0c-b2220dc7bef7",
   "metadata": {},
   "outputs": [],
   "source": [
    "# 2️⃣ XGB / LGBM OOF 로드 후 동일 검증 인덱스 매칭\n",
    "oof_xgb = pd.read_parquet(\"train_input_2_oof_xgb.parquet\")\n",
    "oof_lgb = pd.read_parquet(\"train_input_2_oof_lgbm.parquet\")\n",
    "assert \"oof_xgb\" in oof_xgb.columns\n",
    "assert \"oof_lgbm\" in oof_lgb.columns\n",
    "\n",
    "p_xgb_val = oof_xgb[\"oof_xgb\"].values[val_idx].astype(float)\n",
    "p_lgb_val = oof_lgb[\"oof_lgbm\"].values[val_idx].astype(float)\n",
    "assert len(p_xgb_val) == len(p_lgb_val) == len(p_dcn_val), \"OOF 길이 불일치\""
   ]
  },
  {
   "cell_type": "code",
   "execution_count": 4,
   "id": "e4351091-0432-4b6f-8ba7-091d94fa367a",
   "metadata": {},
   "outputs": [
    {
     "name": "stdout",
     "output_type": "stream",
     "text": [
      "[Blend-Search 41] best α(XGB)=0.075 | β(LGBM)=0.875 | γ(DCN)=0.050 | val_AP=0.068418 | val_WLL=0.588290\n"
     ]
    }
   ],
   "source": [
    "# 3️⃣ α, β 탐색 (DCN + α·XGB + β·LGBM)\n",
    "grid = np.linspace(0.0, 1.0, 41)   # ✅ 해상도 높이기 (21 → 41)\n",
    "best = {\"score\": -1e9, \"a\": None, \"b\": None, \"ap\": None, \"wll\": None}\n",
    "\n",
    "for a in grid:\n",
    "    for b in grid:\n",
    "        if a + b > 1.0:          # DCN weight = 1 - a - b\n",
    "            continue\n",
    "        if (1 - a - b) < 0.05:   # ✅ DCN 최소 5% 보장\n",
    "            continue\n",
    "        blend = a*p_xgb_val + b*p_lgb_val + (1 - a - b)*p_dcn_val\n",
    "        blend = np.clip(blend, 1e-6, 1-1e-6)\n",
    "        ap  = average_precision_score(y_val, blend)\n",
    "        wll = log_loss(y_val, blend)\n",
    "        score = ap*0.7 - wll*0.3   # ✅ AP 중심 가중 점수\n",
    "        if score > best[\"score\"]:\n",
    "            best.update({\"score\": score, \"a\": a, \"b\": b, \"ap\": ap, \"wll\": wll})\n",
    "\n",
    "print(f\"[Blend-Search 41] best α(XGB)={best['a']:.3f} | β(LGBM)={best['b']:.3f} | \"\n",
    "      f\"γ(DCN)={1-best['a']-best['b']:.3f} | val_AP={best['ap']:.6f} | val_WLL={best['wll']:.6f}\")\n"
   ]
  },
  {
   "cell_type": "code",
   "execution_count": 5,
   "id": "5d157ba3-a6ea-46d5-a2ed-c394cf60e912",
   "metadata": {},
   "outputs": [],
   "source": [
    "# 4️⃣ 테스트 제출 세 모델 로드\n",
    "sub_xgb = pd.read_csv(\"toss_xgb_kfold_v7_submit.csv\")\n",
    "sub_lgb = pd.read_csv(\"toss_lgbm_kfold_v9_submit.csv\")\n",
    "sub_dcn = pd.read_csv(\"toss_dcn_v8_submit.csv\")\n",
    "\n",
    "def pick_id_col(df):\n",
    "    for k in [\"ID\",\"id\",\"row_id\"]:\n",
    "        if k in df.columns: return k\n",
    "    raise KeyError(\"제출 파일에 ID/id/row_id 컬럼이 없습니다.\")\n",
    "\n",
    "kx, kl, kd = map(pick_id_col, (sub_xgb, sub_lgb, sub_dcn))\n",
    "sub_xgb = sub_xgb.sort_values(kx).reset_index(drop=True)\n",
    "sub_lgb = sub_lgb.sort_values(kl).reset_index(drop=True)\n",
    "sub_dcn = sub_dcn.sort_values(kd).reset_index(drop=True)\n",
    "assert (sub_xgb[kx].values == sub_lgb[kl].values).all()\n",
    "assert (sub_xgb[kx].values == sub_dcn[kd].values).all()\n"
   ]
  },
  {
   "cell_type": "code",
   "execution_count": 6,
   "id": "68a08c33-8c15-4a56-8789-9464c78cfecf",
   "metadata": {},
   "outputs": [],
   "source": [
    "# 5️⃣ 최적 가중치로 test blending\n",
    "a, b = best[\"a\"], best[\"b\"]\n",
    "g = 1 - a - b\n",
    "clicked = a*sub_xgb[\"clicked\"].values + b*sub_lgb[\"clicked\"].values + g*sub_dcn[\"clicked\"].values\n",
    "clicked = np.clip(clicked, 1e-4, 1-1e-4)\n"
   ]
  },
  {
   "cell_type": "code",
   "execution_count": 8,
   "id": "7165e7f7-cbeb-4068-be47-6c7064fc9489",
   "metadata": {},
   "outputs": [
    {
     "name": "stdout",
     "output_type": "stream",
     "text": [
      "[Saved] toss_ensemble_v10_submit.csv\n"
     ]
    }
   ],
   "source": [
    "out = pd.DataFrame({\n",
    "    \"ID\": sub_dcn[kd].values,\n",
    "    \"clicked\": clicked\n",
    "})\n",
    "out.to_csv(\"toss_ensemble_v10_submit.csv\", index=False)\n",
    "print(\"[Saved] toss_ensemble_v10_submit.csv\")"
   ]
  },
  {
   "cell_type": "code",
   "execution_count": null,
   "id": "140fc213-6cf3-471f-8aeb-e5d43f7c044d",
   "metadata": {},
   "outputs": [],
   "source": []
  }
 ],
 "metadata": {
  "kernelspec": {
   "display_name": "ml_project",
   "language": "python",
   "name": "ml_project"
  },
  "language_info": {
   "codemirror_mode": {
    "name": "ipython",
    "version": 3
   },
   "file_extension": ".py",
   "mimetype": "text/x-python",
   "name": "python",
   "nbconvert_exporter": "python",
   "pygments_lexer": "ipython3",
   "version": "3.11.9"
  }
 },
 "nbformat": 4,
 "nbformat_minor": 5
}
